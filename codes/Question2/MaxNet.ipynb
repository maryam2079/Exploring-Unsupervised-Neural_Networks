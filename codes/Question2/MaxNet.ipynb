{
  "nbformat": 4,
  "nbformat_minor": 0,
  "metadata": {
    "colab": {
      "name": "HW4_Question2.ipynb",
      "provenance": []
    },
    "kernelspec": {
      "name": "python3",
      "display_name": "Python 3"
    },
    "language_info": {
      "name": "python"
    }
  },
  "cells": [
    {
      "cell_type": "code",
      "execution_count": null,
      "metadata": {
        "id": "46833sNvghXa"
      },
      "outputs": [],
      "source": [
        "import numpy as np"
      ]
    },
    {
      "cell_type": "code",
      "source": [
        "e = 0.15\n",
        "a = np.array([1.2, 1.1, 1, 0.9, 0.95, 1.15])"
      ],
      "metadata": {
        "id": "GJnjKdItgw3W"
      },
      "execution_count": null,
      "outputs": []
    },
    {
      "cell_type": "code",
      "source": [
        "m = np.size(a, axis = 0)\n",
        "w = (-1*e*np.ones([m, m])) + ((e+1) * np.identity(m))"
      ],
      "metadata": {
        "id": "QgorUqbagwyc"
      },
      "execution_count": null,
      "outputs": []
    },
    {
      "cell_type": "code",
      "source": [
        "def activation(a):\n",
        "  out = np.where(a >= 0, a, 0)\n",
        "  return out"
      ],
      "metadata": {
        "id": "bKJJiJQ6lZoo"
      },
      "execution_count": null,
      "outputs": []
    },
    {
      "cell_type": "code",
      "source": [
        "def maxnet(input, weight):\n",
        "  a_new = input.copy()\n",
        "  stop = len(input)\n",
        "  updates = []\n",
        "  while (stop > 1):\n",
        "    a_new = activation(np.dot(a_new, weight))\n",
        "    updates.append(a_new)\n",
        "    stop = sum(1 for i in a_new if i != 0)\n",
        "  return updates, updates[len(updates) - 1].argmax(axis = 0)"
      ],
      "metadata": {
        "id": "AdMOcZt7qCux"
      },
      "execution_count": null,
      "outputs": []
    },
    {
      "cell_type": "markdown",
      "source": [
        "#Part 1 (Find max element)"
      ],
      "metadata": {
        "id": "ViVy-QCrp0qV"
      }
    },
    {
      "cell_type": "code",
      "source": [
        "[a_new, max_idx] = maxnet(a, w)\n",
        "iter = len(a_new)\n",
        "print(f'array in 0 update is : {a}')\n",
        "for i in range(iter):\n",
        "  print(f'array in {i + 1} update is : {a_new[i]}')\n",
        "\n",
        "\n",
        "print()\n",
        "print(f'The max element is {a[max_idx]}')"
      ],
      "metadata": {
        "colab": {
          "base_uri": "https://localhost:8080/"
        },
        "id": "e7IIxBVKlBUz",
        "outputId": "c95de97f-5d62-4081-a3c7-431f20712d57"
      },
      "execution_count": null,
      "outputs": [
        {
          "output_type": "stream",
          "name": "stdout",
          "text": [
            "array in 0 update is : [1.2  1.1  1.   0.9  0.95 1.15]\n",
            "array in 1 update is : [0.435  0.32   0.205  0.09   0.1475 0.3775]\n",
            "array in 2 update is : [0.264    0.13175  0.       0.       0.       0.197875]\n",
            "array in 3 update is : [0.21455625 0.06246875 0.         0.         0.         0.1385125 ]\n",
            "array in 4 update is : [0.18440906 0.00950844 0.         0.         0.         0.09695875]\n",
            "array in 5 update is : [0.16843898 0.         0.         0.         0.         0.06787112]\n",
            "array in 6 update is : [0.15825832 0.         0.         0.         0.         0.04260528]\n",
            "array in 7 update is : [0.15186752 0.         0.         0.         0.         0.01886653]\n",
            "array in 8 update is : [0.14903754 0.         0.         0.         0.         0.        ]\n",
            "\n",
            "The max element is 1.2\n"
          ]
        }
      ]
    },
    {
      "cell_type": "markdown",
      "source": [
        "#Part 2"
      ],
      "metadata": {
        "id": "e9z54PP1p4-v"
      }
    },
    {
      "cell_type": "code",
      "source": [
        "betta = 0.8\n",
        "new_input = a.copy()\n",
        "new_input -= betta"
      ],
      "metadata": {
        "id": "1_VvmUXgmbrJ"
      },
      "execution_count": null,
      "outputs": []
    },
    {
      "cell_type": "code",
      "source": [
        "[a_new, max_idx] = maxnet(new_input, w)\n",
        "iter = len(a_new)\n",
        "print(f'array in 0 update is : {new_input}')\n",
        "for i in range(iter):\n",
        "  print(f'array in {i + 1} update is : {a_new[i]}')\n",
        "\n",
        "\n",
        "print()\n",
        "\n",
        "print(f'The max element is {a[max_idx]}')"
      ],
      "metadata": {
        "colab": {
          "base_uri": "https://localhost:8080/"
        },
        "id": "TOb9wlssqA7U",
        "outputId": "42eee30b-b840-4d2f-9ccf-a750a2654bbf"
      },
      "execution_count": null,
      "outputs": [
        {
          "output_type": "stream",
          "name": "stdout",
          "text": [
            "array in 0 update is : [0.4  0.3  0.2  0.1  0.15 0.35]\n",
            "array in 1 update is : [0.235  0.12   0.005  0.     0.     0.1775]\n",
            "array in 2 update is : [0.189625 0.057375 0.       0.       0.       0.1235  ]\n",
            "array in 3 update is : [0.16249375 0.01040625 0.         0.         0.         0.08645   ]\n",
            "array in 4 update is : [0.14796531 0.         0.         0.         0.         0.060515  ]\n",
            "array in 5 update is : [0.13888806 0.         0.         0.         0.         0.0383202 ]\n",
            "array in 6 update is : [0.13314003 0.         0.         0.         0.         0.01748699]\n",
            "array in 7 update is : [0.13051698 0.         0.         0.         0.         0.        ]\n",
            "\n",
            "The max element is 1.2\n"
          ]
        }
      ]
    },
    {
      "cell_type": "markdown",
      "source": [
        "#Part 3"
      ],
      "metadata": {
        "id": "cnHmlSfmtJNk"
      }
    },
    {
      "cell_type": "code",
      "source": [
        "max_to_min = []\n",
        "temp_a = a.copy()\n",
        "for i in range(m):\n",
        "   [a_new, max_idx] = maxnet(temp_a, w)\n",
        "   max_to_min.append(a[max_idx])\n",
        "   temp_a[max_idx] = 0\n",
        "print(f'Sorted array is : {max_to_min}')\n"
      ],
      "metadata": {
        "colab": {
          "base_uri": "https://localhost:8080/"
        },
        "id": "bKY-FPg5tInT",
        "outputId": "46d2ff5a-7c5d-447c-9c35-545f55c7215b"
      },
      "execution_count": null,
      "outputs": [
        {
          "output_type": "stream",
          "name": "stdout",
          "text": [
            "Sorted array is : [1.2, 1.15, 1.1, 1.0, 0.95, 0.9]\n"
          ]
        }
      ]
    },
    {
      "cell_type": "markdown",
      "source": [
        "#Part 4"
      ],
      "metadata": {
        "id": "gh5w25AwyEzf"
      }
    },
    {
      "cell_type": "code",
      "source": [
        "min_to_max = []\n",
        "temp_a = a.copy()\n",
        "for i in range(m):\n",
        "   [a_new, max_idx] = maxnet(temp_a, w)\n",
        "   min_to_max.insert(0, a[max_idx])\n",
        "   temp_a[max_idx] = 0\n",
        "print(f'Sorted array is : {min_to_max}')"
      ],
      "metadata": {
        "colab": {
          "base_uri": "https://localhost:8080/"
        },
        "id": "LhsSXElOw_Bx",
        "outputId": "dfa5a25e-bd28-421b-d22c-e2dab8a9c193"
      },
      "execution_count": null,
      "outputs": [
        {
          "output_type": "stream",
          "name": "stdout",
          "text": [
            "Sorted array is : [0.9, 0.95, 1.0, 1.1, 1.15, 1.2]\n"
          ]
        }
      ]
    }
  ]
}