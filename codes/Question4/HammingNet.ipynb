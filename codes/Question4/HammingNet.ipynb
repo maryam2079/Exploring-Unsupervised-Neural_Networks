{
  "nbformat": 4,
  "nbformat_minor": 0,
  "metadata": {
    "colab": {
      "name": "HW4_Question4.ipynb",
      "provenance": []
    },
    "kernelspec": {
      "name": "python3",
      "display_name": "Python 3"
    },
    "language_info": {
      "name": "python"
    }
  },
  "cells": [
    {
      "cell_type": "code",
      "execution_count": null,
      "metadata": {
        "id": "A_b1YgEkWCdG"
      },
      "outputs": [],
      "source": [
        "import numpy as np\n",
        "import matplotlib.pyplot as plt"
      ]
    },
    {
      "cell_type": "code",
      "source": [
        "X = np.array([[1, -1, 1], [-1, 1, -1], [-1, 1, -1], [1, -1, 1]])\n",
        "Y = np.array([[1, -1, 1], [-1, 1, -1], [-1, 1, -1], [-1, 1, -1]])\n",
        "A = np.array([[-1, 1, -1], [1, -1, 1], [1, 1, 1], [1, -1, 1]])\n",
        "C = np.array([[-1, 1, 1], [1, -1, -1], [1, -1, -1], [-1, 1, 1]])\n"
      ],
      "metadata": {
        "id": "GAzGCMEfckpT"
      },
      "execution_count": null,
      "outputs": []
    },
    {
      "cell_type": "code",
      "source": [
        "X.shape"
      ],
      "metadata": {
        "colab": {
          "base_uri": "https://localhost:8080/"
        },
        "id": "nkGLsqZ1dN6A",
        "outputId": "2532f2b1-95e9-4000-9ef0-8ff98a7ce477"
      },
      "execution_count": null,
      "outputs": [
        {
          "output_type": "execute_result",
          "data": {
            "text/plain": [
              "(4, 3)"
            ]
          },
          "metadata": {},
          "execution_count": 3
        }
      ]
    },
    {
      "cell_type": "code",
      "source": [
        "img_name = ['X', 'Y', 'A', 'C']\n",
        "img = [X, Y, A, C]\n",
        "m = 4"
      ],
      "metadata": {
        "id": "eCgcykaJ0t--"
      },
      "execution_count": null,
      "outputs": []
    },
    {
      "cell_type": "code",
      "source": [
        "X_flat = X.reshape(12)\n",
        "Y_flat = Y.reshape(12)\n",
        "A_flat = A.reshape(12)\n",
        "C_flat = C.reshape(12)"
      ],
      "metadata": {
        "id": "WC2q3cDnic3m"
      },
      "execution_count": null,
      "outputs": []
    },
    {
      "cell_type": "code",
      "source": [
        "w = np.array([X_flat/2, Y_flat/2, A_flat/2, C_flat/2]).T\n",
        "print(w)"
      ],
      "metadata": {
        "colab": {
          "base_uri": "https://localhost:8080/"
        },
        "id": "cESgFYmdzbh_",
        "outputId": "08fcacf9-d5a9-4e58-911f-c7cb63dc5107"
      },
      "execution_count": null,
      "outputs": [
        {
          "output_type": "stream",
          "name": "stdout",
          "text": [
            "[[ 0.5  0.5 -0.5 -0.5]\n",
            " [-0.5 -0.5  0.5  0.5]\n",
            " [ 0.5  0.5 -0.5  0.5]\n",
            " [-0.5 -0.5  0.5  0.5]\n",
            " [ 0.5  0.5 -0.5 -0.5]\n",
            " [-0.5 -0.5  0.5 -0.5]\n",
            " [-0.5 -0.5  0.5  0.5]\n",
            " [ 0.5  0.5  0.5 -0.5]\n",
            " [-0.5 -0.5  0.5 -0.5]\n",
            " [ 0.5 -0.5  0.5 -0.5]\n",
            " [-0.5  0.5 -0.5  0.5]\n",
            " [ 0.5 -0.5  0.5  0.5]]\n"
          ]
        }
      ]
    },
    {
      "cell_type": "code",
      "source": [
        "X_flat.shape"
      ],
      "metadata": {
        "colab": {
          "base_uri": "https://localhost:8080/"
        },
        "id": "DJzx1Af4df7Y",
        "outputId": "ff36086d-b8d1-4242-a328-9d08fa5d0953"
      },
      "execution_count": null,
      "outputs": [
        {
          "output_type": "execute_result",
          "data": {
            "text/plain": [
              "(12,)"
            ]
          },
          "metadata": {},
          "execution_count": 8
        }
      ]
    },
    {
      "cell_type": "code",
      "source": [
        "n = w.shape[0]\n",
        "bias = n/2"
      ],
      "metadata": {
        "id": "2ZYMhqb8jIgO"
      },
      "execution_count": null,
      "outputs": []
    },
    {
      "cell_type": "code",
      "source": [
        "def activation(a):\n",
        "  out = np.where(a >= 0, a, 0)\n",
        "  return out"
      ],
      "metadata": {
        "id": "2de0zIyku0V7"
      },
      "execution_count": null,
      "outputs": []
    },
    {
      "cell_type": "code",
      "source": [
        "def maxnet(input):\n",
        "  weight = (-1*0.15*np.ones([m, m])) + ((0.15+1) * np.identity(m))\n",
        "  a_new = input.copy()\n",
        "  stop = len(input)\n",
        "  updates = []\n",
        "  while (stop > 1):\n",
        "    a_new = activation(np.dot(a_new, weight))\n",
        "    updates.append(a_new)\n",
        "    stop = sum(1 for i in a_new if i != 0)\n",
        "  return updates[len(updates) - 1].argmax(axis = 0)"
      ],
      "metadata": {
        "id": "Ug-iJ-mYuxvv"
      },
      "execution_count": null,
      "outputs": []
    },
    {
      "cell_type": "code",
      "source": [
        "def HammingDist(exe, input):\n",
        "  m = len(exe)\n",
        "  weight = []\n",
        "  for i in range(m):\n",
        "    weight.append(exe[i]/2)\n",
        "  weight = np.array(weight).T\n",
        "  y = np.zeros([m])\n",
        "  y = bias + np.dot(input, weight)\n",
        "  return y"
      ],
      "metadata": {
        "id": "-rTxwD_BvuxN"
      },
      "execution_count": null,
      "outputs": []
    },
    {
      "cell_type": "code",
      "source": [
        "def HammingNet(exe, input):\n",
        "  dist = HammingDist(exe, input)\n",
        "  idx = maxnet(dist)\n",
        "  return idx"
      ],
      "metadata": {
        "id": "vtpY4K7b2j-A"
      },
      "execution_count": null,
      "outputs": []
    },
    {
      "cell_type": "markdown",
      "source": [
        "#Part 1"
      ],
      "metadata": {
        "id": "9wameEIi4cS-"
      }
    },
    {
      "cell_type": "code",
      "source": [
        "XYHamming = HammingDist(Y_flat, X_flat)\n",
        "print(f'Hamming Distance between X&Y is : {XYHamming}')\n",
        "XAHamming = HammingDist(A_flat, X_flat)\n",
        "print(f'Hamming Distance between X&A is : {XAHamming}')\n",
        "XCHamming = HammingDist(C_flat, X_flat)\n",
        "print(f'Hamming Distance between X&C is : {XCHamming}')\n",
        "YAHamming = HammingDist(A_flat, Y_flat)\n",
        "print(f'Hamming Distance between Y&A is : {YAHamming}')\n",
        "YCHamming = HammingDist(C_flat, Y_flat)\n",
        "print(f'Hamming Distance between Y&C is : {YCHamming}')\n",
        "ACHamming = HammingDist(C_flat, A_flat)\n",
        "print(f'Hamming Distance between A&C is : {ACHamming}')\n"
      ],
      "metadata": {
        "colab": {
          "base_uri": "https://localhost:8080/"
        },
        "id": "-D3HUmXk2O6K",
        "outputId": "8b2a4b94-a591-4e31-e52d-ec92aea9e5ca"
      },
      "execution_count": null,
      "outputs": [
        {
          "output_type": "stream",
          "name": "stdout",
          "text": [
            "()\n",
            "Hamming Distance between X&Y is : 9.0\n",
            "()\n",
            "Hamming Distance between X&A is : 4.0\n",
            "()\n",
            "Hamming Distance between X&C is : 4.0\n",
            "()\n",
            "Hamming Distance between Y&A is : 1.0\n",
            "()\n",
            "Hamming Distance between Y&C is : 5.0\n",
            "()\n",
            "Hamming Distance between A&C is : 6.0\n"
          ]
        }
      ]
    },
    {
      "cell_type": "markdown",
      "source": [
        "#Part 2"
      ],
      "metadata": {
        "id": "x4tnelkS4f3X"
      }
    },
    {
      "cell_type": "code",
      "source": [
        "input = np.array([[1, 1, 1], [-1, 1, -1], [-1, 1, -1], [-1, 1, -1]])\n",
        "exemplas = [X_flat, Y_flat, A_flat, C_flat]"
      ],
      "metadata": {
        "id": "tpT3XjeOgBkc"
      },
      "execution_count": null,
      "outputs": []
    },
    {
      "cell_type": "code",
      "source": [
        "idx = HammingNet(exemplas, input.reshape(12))\n",
        "print(f'The most similar img is : {img_name[idx]}')\n",
        "print()\n",
        "plt.imshow(img[idx], cmap = 'Greys')\n",
        "plt.title('Nearest Image')"
      ],
      "metadata": {
        "colab": {
          "base_uri": "https://localhost:8080/",
          "height": 350
        },
        "id": "ULqpITpUorMF",
        "outputId": "412a1c6b-331c-462f-e3ba-5b6170d4bdb5"
      },
      "execution_count": null,
      "outputs": [
        {
          "output_type": "stream",
          "name": "stdout",
          "text": [
            "(12, 4)\n",
            "The most similar img is : Y\n",
            "\n"
          ]
        },
        {
          "output_type": "execute_result",
          "data": {
            "text/plain": [
              "Text(0.5, 1.0, 'Nearest Image')"
            ]
          },
          "metadata": {},
          "execution_count": 20
        },
        {
          "output_type": "display_data",
          "data": {
            "text/plain": [
              "<Figure size 432x288 with 1 Axes>"
            ],
            "image/png": "[encoded data removed]"
          },
          "metadata": {
            "needs_background": "light"
          }
        }
      ]
    },
    {
      "cell_type": "code",
      "source": [
        "TYHamming = HammingDist(Y_flat, input.reshape(12))\n",
        "print(f'Hamming Distance between T&Y is : {TYHamming}')\n",
        "TAHamming = HammingDist(A_flat, input.reshape(12))\n",
        "print(f'Hamming Distance between T&A is : {TAHamming}')\n",
        "TCHamming = HammingDist(C_flat, input.reshape(12))\n",
        "print(f'Hamming Distance between T&C is : {TCHamming}')"
      ],
      "metadata": {
        "colab": {
          "base_uri": "https://localhost:8080/"
        },
        "id": "2e1EJyp9h4kc",
        "outputId": "901455fe-313c-41b0-a9d5-243ce7d01d57"
      },
      "execution_count": null,
      "outputs": [
        {
          "output_type": "stream",
          "name": "stdout",
          "text": [
            "Hamming Distance between T&Y is : 11.0\n",
            "Hamming Distance between T&A is : 2.0\n",
            "Hamming Distance between T&C is : 6.0\n"
          ]
        }
      ]
    },
    {
      "cell_type": "code",
      "source": [
        ""
      ],
      "metadata": {
        "id": "I_S1xSnJeG4N"
      },
      "execution_count": null,
      "outputs": []
    }
  ]
}